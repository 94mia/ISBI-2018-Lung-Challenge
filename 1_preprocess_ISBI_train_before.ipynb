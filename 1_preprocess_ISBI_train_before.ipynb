{
 "cells": [
  {
   "cell_type": "code",
   "execution_count": 5,
   "metadata": {
    "collapsed": true
   },
   "outputs": [],
   "source": [
    "import settings\n",
    "import helpers\n",
    "import glob\n",
    "import os\n",
    "import cv2\n",
    "import scipy.misc\n",
    "import dicom\n",
    "import numpy\n",
    "from multiprocessing import Pool"
   ]
  },
  {
   "cell_type": "code",
   "execution_count": 3,
   "metadata": {
    "collapsed": true
   },
   "outputs": [],
   "source": [
    "def cv_flip(img,cols,rows,degree):\n",
    "    M = cv2.getRotationMatrix2D((cols/2,rows/2),degree,1.0)\n",
    "    dst = cv2.warpAffine(img,M,(cols,rows))\n",
    "    return dst"
   ]
  },
  {
   "cell_type": "code",
   "execution_count": 7,
   "metadata": {
    "collapsed": true
   },
   "outputs": [],
   "source": [
    "def extract_dicom_images(clean_targetdir_first = False, only_patient_id=None):\n",
    "    print(\"Extracting Images\")\n",
    "    \n",
    "    target_dir = settings.TRAIN_EXTRACTED_DIR\n",
    "    if clean_targetdir_first and only_patient_id is not None:\n",
    "        print(\"Cleaning Target Directory\")\n",
    "        for file_path in glob.glob(target_dir + \".*\"):\n",
    "            os.remove(file_path)\n",
    "    \n",
    "    if only_patient_id is None:\n",
    "        dirs = os.listdir(settings.TRAIN_DIR_RAW)\n",
    "        if True:\n",
    "            pool = Pool(settings.WORKER_POOL_SIZE)\n",
    "            pool.map(extract_dicom_images_patient,dirs)\n",
    "        else:\n",
    "            for dir_entry in dirs:\n",
    "                extract_dicom_images_patient(dir_entry)\n",
    "    else:\n",
    "        extract_dicom_images_patient(only_patient_id)"
   ]
  },
  {
   "cell_type": "code",
   "execution_count": 9,
   "metadata": {
    "collapsed": true
   },
   "outputs": [],
   "source": [
    "def extract_dicom_images_patient(src_dir):\n",
    "    target_dir = settings.TRAIN_EXTRACTED_DIR\n",
    "    print(\"Dir: \", src_dir)\n",
    "    dir_path = settings.TRAIN_DIR_RAW + src_dir + \"/\" + settings.BEFORE_DIR\n",
    "    patient_id = src_dir\n",
    "    slices = helpers.load_scan(dir_path)\n",
    "    print(len(slices),\"\\t\",slices[0].SliceThickness,\"\\t\",slices[0].PixelSpacing)\n",
    "    print(\"Orientation: \", slices[0].ImageOrientationPatient)\n",
    "    cos_value = (slices[0].ImageOrientationPatient[0])\n",
    "    cos_degree = round(math.degrees(math.acos(cos_value)),2)\n",
    "    \n",
    "    pixels = helpers.get_pixels_hu(slices)\n",
    "    image = pixels\n",
    "    print(image.shape)\n",
    "    invert_order = slices[1].ImagePositionPatient[2]>slices[0].ImagePositionPatient[2]\n",
    "    print(\"Invert order: \", invert_order, \" - \", slices[1].ImagePositionPatient[2],\",\", \n",
    "          slices[0].ImagePositionPatient[2])\n",
    "    \n",
    "    pixel_spacing = slices[0].PixelSpacing\n",
    "    pixel_spacing.append(slices[0].SliceThickness)\n",
    "    image = helpers.rescale_patient_images(image,pixel_spacing,settings.TARGET_VOXEL_MM)\n",
    "    if not invert_order:\n",
    "        image = numpy.flipud(image)\n",
    "    for i in range(image.shape[0]):\n",
    "        patient_dir = target_dir + patient_id + \"/\" + settings.BEFORE_DIR\n",
    "        if not os.path.exists(patient_dir):\n",
    "            print(\"couldn't find path to folder...\")\n",
    "        img_path = patient_dir + \"img_\" + str(i).rjust(4,'0') + \"_i.png\"\n",
    "        org_img = image[i]\n",
    "        if cos_degree > 0.0:\n",
    "            org_img = cv_flip(org_img,org_img.shape[1],org_img[0],cos_degree)\n",
    "        img, mask = helpers.get_segmented_lungs(org_img.copy())\n",
    "        org_img = helpers.normalize_hu(org_img)\n",
    "        cv2.imwrite(img_path, org_img*255)\n",
    "        cv2.imwrite(im_path.replace(\"_i.png\",\"_m.png\"), mask*255)\n",
    "        "
   ]
  },
  {
   "cell_type": "code",
   "execution_count": 10,
   "metadata": {},
   "outputs": [
    {
     "name": "stdout",
     "output_type": "stream",
     "text": [
      "Extracting Images\n"
     ]
    },
    {
     "ename": "AttributeError",
     "evalue": "module 'settings' has no attribute 'TRAIN_EXTRACTED_DIR'",
     "output_type": "error",
     "traceback": [
      "\u001b[1;31m---------------------------------------------------------------------------\u001b[0m",
      "\u001b[1;31mAttributeError\u001b[0m                            Traceback (most recent call last)",
      "\u001b[1;32m<ipython-input-10-6dcad6873254>\u001b[0m in \u001b[0;36m<module>\u001b[1;34m()\u001b[0m\n\u001b[1;32m----> 1\u001b[1;33m \u001b[0mextract_dicom_images\u001b[0m\u001b[1;33m(\u001b[0m\u001b[1;33m)\u001b[0m\u001b[1;33m\u001b[0m\u001b[0m\n\u001b[0m",
      "\u001b[1;32m<ipython-input-7-3443415c64f2>\u001b[0m in \u001b[0;36mextract_dicom_images\u001b[1;34m(clean_targetdir_first, only_patient_id)\u001b[0m\n\u001b[0;32m      2\u001b[0m     \u001b[0mprint\u001b[0m\u001b[1;33m(\u001b[0m\u001b[1;34m\"Extracting Images\"\u001b[0m\u001b[1;33m)\u001b[0m\u001b[1;33m\u001b[0m\u001b[0m\n\u001b[0;32m      3\u001b[0m \u001b[1;33m\u001b[0m\u001b[0m\n\u001b[1;32m----> 4\u001b[1;33m     \u001b[0mtarget_dir\u001b[0m \u001b[1;33m=\u001b[0m \u001b[0msettings\u001b[0m\u001b[1;33m.\u001b[0m\u001b[0mTRAIN_EXTRACTED_DIR\u001b[0m\u001b[1;33m\u001b[0m\u001b[0m\n\u001b[0m\u001b[0;32m      5\u001b[0m     \u001b[1;32mif\u001b[0m \u001b[0mclean_targetdir_first\u001b[0m \u001b[1;32mand\u001b[0m \u001b[0monly_patient_id\u001b[0m \u001b[1;32mis\u001b[0m \u001b[1;32mnot\u001b[0m \u001b[1;32mNone\u001b[0m\u001b[1;33m:\u001b[0m\u001b[1;33m\u001b[0m\u001b[0m\n\u001b[0;32m      6\u001b[0m         \u001b[0mprint\u001b[0m\u001b[1;33m(\u001b[0m\u001b[1;34m\"Cleaning Target Directory\"\u001b[0m\u001b[1;33m)\u001b[0m\u001b[1;33m\u001b[0m\u001b[0m\n",
      "\u001b[1;31mAttributeError\u001b[0m: module 'settings' has no attribute 'TRAIN_EXTRACTED_DIR'"
     ]
    }
   ],
   "source": [
    "extract_dicom_images()"
   ]
  },
  {
   "cell_type": "code",
   "execution_count": null,
   "metadata": {
    "collapsed": true
   },
   "outputs": [],
   "source": []
  }
 ],
 "metadata": {
  "kernelspec": {
   "display_name": "Python 3",
   "language": "python",
   "name": "python3"
  },
  "language_info": {
   "codemirror_mode": {
    "name": "ipython",
    "version": 3
   },
   "file_extension": ".py",
   "mimetype": "text/x-python",
   "name": "python",
   "nbconvert_exporter": "python",
   "pygments_lexer": "ipython3",
   "version": "3.6.1"
  }
 },
 "nbformat": 4,
 "nbformat_minor": 2
}
